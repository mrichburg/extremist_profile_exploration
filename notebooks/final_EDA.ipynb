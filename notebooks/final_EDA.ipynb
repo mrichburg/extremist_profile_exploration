{
 "cells": [
  {
   "cell_type": "code",
   "execution_count": 1,
   "metadata": {},
   "outputs": [],
   "source": [
    "from string import ascii_letters\n",
    "import numpy as np\n",
    "import pandas as pd\n",
    "import seaborn as sns\n",
    "import matplotlib.pyplot as plt\n",
    "import bokeh\n",
    "\n",
    "# in your notebook cell\n",
    "import sys\n",
    "\n",
    "# path relative to your notebook\n",
    "sys.path.insert(0, '../src')\n",
    "\n",
    "# import as usual\n",
    "import functions\n",
    "\n",
    "# autoreload\n",
    "%load_ext autoreload\n",
    "%autoreload 2\n",
    "\n",
    "#defining DataFrame\n",
    "df = functions.read_file('../data/PIRUS_March2023/PIRUS_V4.xlsx')\n",
    "\n",
    "\n",
    "import warnings\n",
    "warnings.filterwarnings('ignore')\n",
    "\n",
    "from sklearn.metrics import accuracy_score, precision_score, recall_score\n",
    "from sklearn.neighbors import KNeighborsRegressor\n",
    "from sklearn.model_selection import KFold\n",
    "from sklearn.model_selection import train_test_split\n",
    "from sklearn.model_selection import cross_val_score\n",
    "from sklearn.metrics import mean_squared_error\n",
    "import numpy as np\n",
    "#from sklearn.datasets import load_boston\n",
    "from sklearn.linear_model import LinearRegression, LogisticRegression\n",
    "from sklearn.preprocessing import StandardScaler"
   ]
  },
  {
   "cell_type": "code",
   "execution_count": 2,
   "metadata": {},
   "outputs": [
    {
     "data": {
      "text/plain": [
       "(3203, 130)"
      ]
     },
     "execution_count": 2,
     "metadata": {},
     "output_type": "execute_result"
    }
   ],
   "source": [
    "df.shape"
   ]
  },
  {
   "cell_type": "markdown",
   "metadata": {},
   "source": [
    "## Cleaning Data"
   ]
  },
  {
   "cell_type": "code",
   "execution_count": 3,
   "metadata": {},
   "outputs": [
    {
     "name": "stdout",
     "output_type": "stream",
     "text": [
      "Non Violent Mil:\n",
      " Trauma\n",
      " 0     70\n",
      "-99    61\n",
      " 1     17\n",
      " 2     13\n",
      " 3     10\n",
      "dtype: int64\n",
      "\n",
      "Violent Mil:\n",
      " Trauma\n",
      "-99    111\n",
      " 0      86\n",
      " 1      57\n",
      " 2      33\n",
      " 3      12\n",
      "dtype: int64\n",
      "\n",
      "Non Violent Civ:\n",
      " Trauma\n",
      "-99    375\n",
      " 0     368\n",
      " 1      46\n",
      " 2      42\n",
      " 3      13\n",
      "dtype: int64\n",
      "\n",
      "Violent Civ:\n",
      " Trauma\n",
      "-99    564\n",
      " 0     522\n",
      " 2      75\n",
      " 1      71\n",
      " 3      22\n",
      "dtype: int64\n"
     ]
    }
   ],
   "source": [
    "#Checking different columns against the different populations (violent/non-violent/military/non-military)\n",
    "\n",
    "print(\"Non Violent Mil:\\n\", df[(df[\"Military\"] == 1) & (df[\"Violent\"] == 0)].groupby([\"Trauma\"]).size().sort_values(ascending=False))\n",
    "print(\"\\nViolent Mil:\\n\", df[(df[\"Military\"] == 1) & (df[\"Violent\"] == 1)].groupby([\"Trauma\"]).size().sort_values(ascending=False))\n",
    "print(\"\\nNon Violent Civ:\\n\", df[(df[\"Military\"] == 0) & (df[\"Violent\"] == 0)].groupby([\"Trauma\"]).size().sort_values(ascending=False))\n",
    "print(\"\\nViolent Civ:\\n\", df[(df[\"Military\"] == 0) & (df[\"Violent\"] == 1)].groupby([\"Trauma\"]).size().sort_values(ascending=False))\n",
    "\n",
    "# print(df[\"Social_Stratum_Adulthood\"].value_counts())"
   ]
  },
  {
   "cell_type": "code",
   "execution_count": 4,
   "metadata": {},
   "outputs": [
    {
     "data": {
      "text/plain": [
       "dtype('int64')"
      ]
     },
     "execution_count": 4,
     "metadata": {},
     "output_type": "execute_result"
    }
   ],
   "source": [
    "# df.head()\n",
    "\n",
    "df[\"Time_US_Months\"].dtype"
   ]
  },
  {
   "cell_type": "code",
   "execution_count": 5,
   "metadata": {},
   "outputs": [],
   "source": [
    "saved_cols = ['Subject_ID', 'Year_Exposure',\n",
    "       'Violent','Foreign_Fighter', 'Group_Membership', 'Actively_Recruited', 'Actively_Connect',\n",
    "       'Role_Group', 'Clique',\n",
    "       'Internet_Radicalization', 'Media_Radicalization', 'Social_Media',\n",
    "       'Social_Media_Frequency', 'Radicalization_Islamist',\n",
    "       'Radicalization_Far_Right', 'Radicalization_Far_Left',\n",
    "       'Radicalization_Single_Issue', 'External_Rad', 'Rad_duration',\n",
    "       'Radical_Beliefs', 'US_Govt_Leader', 'Foreign_Govt_Leader',\n",
    "       'Event_Influence1', 'Radicalization_Place', 'Broad_Ethnicity',\n",
    "       'Age', 'Marital_Status', 'Children', 'Gender',\n",
    "       'Religious_Background', 'Convert',\n",
    "       'Time_US_Months', 'Immigrant_Generation',\n",
    "       'Education', 'Student', 'Employment_Status', 'Work_History',\n",
    "       'Military', 'Foreign_Military',\n",
    "       'Abuse_Child', 'Abuse_Adult', 'Abuse_type1',\n",
    "       'Psychological', 'Alcohol_Drug', 'Radical_Friend',\n",
    "       'Radical_Family', 'Radical_Signif_Other',\n",
    "       'Previous_Criminal_Activity', 'Previous_Criminal_Activity_Type1',\n",
    "       'Gang', 'Trauma', 'Other_Ideologies', 'Angry_US', 'Group_Grievance',\n",
    "       ]"
   ]
  },
  {
   "cell_type": "code",
   "execution_count": 6,
   "metadata": {},
   "outputs": [
    {
     "name": "stdout",
     "output_type": "stream",
     "text": [
      "15\n"
     ]
    }
   ],
   "source": [
    "#Filter for columns I want\n",
    "col_i_want = [\n",
    "       'Violent','Group_Membership',\n",
    "       'Internet_Radicalization',\n",
    "       'Age', 'Marital_Status', 'Children', 'Gender',\n",
    "       'Religious_Background',\n",
    "       'Education',\n",
    "       'Military',\n",
    "       'Psychological', 'Alcohol_Drug',\n",
    "       'Previous_Criminal_Activity',\n",
    "       'Angry_US', 'Group_Grievance',\n",
    "       ]\n",
    "\n",
    "#Counting columns\n",
    "print(len(col_i_want))"
   ]
  },
  {
   "cell_type": "code",
   "execution_count": 7,
   "metadata": {},
   "outputs": [
    {
     "data": {
      "text/plain": [
       "Violent                       0\n",
       "Group_Membership              0\n",
       "Internet_Radicalization       0\n",
       "Age                           0\n",
       "Marital_Status                0\n",
       "Children                      0\n",
       "Gender                        0\n",
       "Religious_Background          0\n",
       "Education                     0\n",
       "Military                      0\n",
       "Psychological                 0\n",
       "Alcohol_Drug                  0\n",
       "Previous_Criminal_Activity    0\n",
       "Angry_US                      0\n",
       "Group_Grievance               0\n",
       "dtype: int64"
      ]
     },
     "execution_count": 7,
     "metadata": {},
     "output_type": "execute_result"
    }
   ],
   "source": [
    "#Making a DF consisting of only columns I want\n",
    "setup_df = df[col_i_want]\n",
    "\n",
    "#Check for any null values\n",
    "setup_df.isnull().sum()\n",
    "\n",
    "#Check for any nan values\n",
    "setup_df.isna().sum()\n"
   ]
  },
  {
   "cell_type": "code",
   "execution_count": 8,
   "metadata": {},
   "outputs": [],
   "source": [
    "#Checking the correlation between \n",
    "# sns.heatmap(setup_df.corr())"
   ]
  },
  {
   "cell_type": "code",
   "execution_count": 9,
   "metadata": {},
   "outputs": [],
   "source": [
    "#Splitting DF into military and civillians\n",
    "mil_only = setup_df[setup_df[\"Military\"] == 1]\n",
    "\n",
    "civ_only = setup_df[setup_df[\"Military\"] == 0]"
   ]
  },
  {
   "cell_type": "code",
   "execution_count": 10,
   "metadata": {},
   "outputs": [
    {
     "name": "stdout",
     "output_type": "stream",
     "text": [
      "1    470\n",
      "Name: Military, dtype: int64\n",
      "0    2098\n",
      "Name: Military, dtype: int64\n",
      " 0     2098\n",
      "-99     635\n",
      " 1      470\n",
      "Name: Military, dtype: int64\n"
     ]
    }
   ],
   "source": [
    "#checking why shape is different\n",
    "print(mil_only[\"Military\"].value_counts())\n",
    "print(civ_only[\"Military\"].value_counts())\n",
    "print(df[\"Military\"].value_counts())\n",
    "\n",
    "# Different because I will not include those with UNK military status\n"
   ]
  },
  {
   "cell_type": "markdown",
   "metadata": {},
   "source": [
    "## Hypothesis Tests"
   ]
  },
  {
   "cell_type": "code",
   "execution_count": 11,
   "metadata": {},
   "outputs": [
    {
     "data": {
      "text/html": [
       "<div>\n",
       "<style scoped>\n",
       "    .dataframe tbody tr th:only-of-type {\n",
       "        vertical-align: middle;\n",
       "    }\n",
       "\n",
       "    .dataframe tbody tr th {\n",
       "        vertical-align: top;\n",
       "    }\n",
       "\n",
       "    .dataframe thead th {\n",
       "        text-align: right;\n",
       "    }\n",
       "</style>\n",
       "<table border=\"1\" class=\"dataframe\">\n",
       "  <thead>\n",
       "    <tr style=\"text-align: right;\">\n",
       "      <th></th>\n",
       "      <th>Violent</th>\n",
       "      <th>Group_Membership</th>\n",
       "      <th>Internet_Radicalization</th>\n",
       "      <th>Age</th>\n",
       "      <th>Marital_Status</th>\n",
       "      <th>Children</th>\n",
       "      <th>Gender</th>\n",
       "      <th>Religious_Background</th>\n",
       "      <th>Education</th>\n",
       "      <th>Military</th>\n",
       "      <th>Psychological</th>\n",
       "      <th>Alcohol_Drug</th>\n",
       "      <th>Previous_Criminal_Activity</th>\n",
       "      <th>Angry_US</th>\n",
       "      <th>Group_Grievance</th>\n",
       "    </tr>\n",
       "  </thead>\n",
       "  <tbody>\n",
       "    <tr>\n",
       "      <th>6</th>\n",
       "      <td>0</td>\n",
       "      <td>3</td>\n",
       "      <td>1</td>\n",
       "      <td>32</td>\n",
       "      <td>1</td>\n",
       "      <td>0</td>\n",
       "      <td>2</td>\n",
       "      <td>15</td>\n",
       "      <td>6</td>\n",
       "      <td>1</td>\n",
       "      <td>2</td>\n",
       "      <td>1</td>\n",
       "      <td>0</td>\n",
       "      <td>1</td>\n",
       "      <td>0</td>\n",
       "    </tr>\n",
       "    <tr>\n",
       "      <th>20</th>\n",
       "      <td>0</td>\n",
       "      <td>3</td>\n",
       "      <td>1</td>\n",
       "      <td>52</td>\n",
       "      <td>3</td>\n",
       "      <td>2</td>\n",
       "      <td>2</td>\n",
       "      <td>-99</td>\n",
       "      <td>3</td>\n",
       "      <td>1</td>\n",
       "      <td>2</td>\n",
       "      <td>1</td>\n",
       "      <td>1</td>\n",
       "      <td>1</td>\n",
       "      <td>0</td>\n",
       "    </tr>\n",
       "    <tr>\n",
       "      <th>22</th>\n",
       "      <td>1</td>\n",
       "      <td>3</td>\n",
       "      <td>1</td>\n",
       "      <td>39</td>\n",
       "      <td>2</td>\n",
       "      <td>4</td>\n",
       "      <td>2</td>\n",
       "      <td>-99</td>\n",
       "      <td>-99</td>\n",
       "      <td>1</td>\n",
       "      <td>2</td>\n",
       "      <td>0</td>\n",
       "      <td>1</td>\n",
       "      <td>1</td>\n",
       "      <td>0</td>\n",
       "    </tr>\n",
       "    <tr>\n",
       "      <th>23</th>\n",
       "      <td>1</td>\n",
       "      <td>3</td>\n",
       "      <td>1</td>\n",
       "      <td>41</td>\n",
       "      <td>1</td>\n",
       "      <td>-99</td>\n",
       "      <td>2</td>\n",
       "      <td>-99</td>\n",
       "      <td>-99</td>\n",
       "      <td>1</td>\n",
       "      <td>0</td>\n",
       "      <td>0</td>\n",
       "      <td>0</td>\n",
       "      <td>0</td>\n",
       "      <td>0</td>\n",
       "    </tr>\n",
       "    <tr>\n",
       "      <th>34</th>\n",
       "      <td>0</td>\n",
       "      <td>3</td>\n",
       "      <td>1</td>\n",
       "      <td>35</td>\n",
       "      <td>2</td>\n",
       "      <td>0</td>\n",
       "      <td>1</td>\n",
       "      <td>-99</td>\n",
       "      <td>3</td>\n",
       "      <td>1</td>\n",
       "      <td>0</td>\n",
       "      <td>0</td>\n",
       "      <td>1</td>\n",
       "      <td>1</td>\n",
       "      <td>0</td>\n",
       "    </tr>\n",
       "    <tr>\n",
       "      <th>52</th>\n",
       "      <td>1</td>\n",
       "      <td>3</td>\n",
       "      <td>1</td>\n",
       "      <td>40</td>\n",
       "      <td>2</td>\n",
       "      <td>2</td>\n",
       "      <td>2</td>\n",
       "      <td>-99</td>\n",
       "      <td>-99</td>\n",
       "      <td>1</td>\n",
       "      <td>1</td>\n",
       "      <td>0</td>\n",
       "      <td>0</td>\n",
       "      <td>1</td>\n",
       "      <td>0</td>\n",
       "    </tr>\n",
       "    <tr>\n",
       "      <th>54</th>\n",
       "      <td>0</td>\n",
       "      <td>3</td>\n",
       "      <td>1</td>\n",
       "      <td>44</td>\n",
       "      <td>2</td>\n",
       "      <td>3</td>\n",
       "      <td>2</td>\n",
       "      <td>-99</td>\n",
       "      <td>4</td>\n",
       "      <td>1</td>\n",
       "      <td>0</td>\n",
       "      <td>0</td>\n",
       "      <td>0</td>\n",
       "      <td>1</td>\n",
       "      <td>0</td>\n",
       "    </tr>\n",
       "    <tr>\n",
       "      <th>60</th>\n",
       "      <td>1</td>\n",
       "      <td>3</td>\n",
       "      <td>1</td>\n",
       "      <td>33</td>\n",
       "      <td>1</td>\n",
       "      <td>1</td>\n",
       "      <td>2</td>\n",
       "      <td>7</td>\n",
       "      <td>3</td>\n",
       "      <td>1</td>\n",
       "      <td>0</td>\n",
       "      <td>0</td>\n",
       "      <td>0</td>\n",
       "      <td>1</td>\n",
       "      <td>0</td>\n",
       "    </tr>\n",
       "  </tbody>\n",
       "</table>\n",
       "</div>"
      ],
      "text/plain": [
       "    Violent  Group_Membership  Internet_Radicalization  Age  Marital_Status  \\\n",
       "6         0                 3                        1   32               1   \n",
       "20        0                 3                        1   52               3   \n",
       "22        1                 3                        1   39               2   \n",
       "23        1                 3                        1   41               1   \n",
       "34        0                 3                        1   35               2   \n",
       "52        1                 3                        1   40               2   \n",
       "54        0                 3                        1   44               2   \n",
       "60        1                 3                        1   33               1   \n",
       "\n",
       "    Children  Gender  Religious_Background  Education  Military  \\\n",
       "6          0       2                    15          6         1   \n",
       "20         2       2                   -99          3         1   \n",
       "22         4       2                   -99        -99         1   \n",
       "23       -99       2                   -99        -99         1   \n",
       "34         0       1                   -99          3         1   \n",
       "52         2       2                   -99        -99         1   \n",
       "54         3       2                   -99          4         1   \n",
       "60         1       2                     7          3         1   \n",
       "\n",
       "    Psychological  Alcohol_Drug  Previous_Criminal_Activity  Angry_US  \\\n",
       "6               2             1                           0         1   \n",
       "20              2             1                           1         1   \n",
       "22              2             0                           1         1   \n",
       "23              0             0                           0         0   \n",
       "34              0             0                           1         1   \n",
       "52              1             0                           0         1   \n",
       "54              0             0                           0         1   \n",
       "60              0             0                           0         1   \n",
       "\n",
       "    Group_Grievance  \n",
       "6                 0  \n",
       "20                0  \n",
       "22                0  \n",
       "23                0  \n",
       "34                0  \n",
       "52                0  \n",
       "54                0  \n",
       "60                0  "
      ]
     },
     "execution_count": 11,
     "metadata": {},
     "output_type": "execute_result"
    }
   ],
   "source": [
    "mil_only.head(8)"
   ]
  },
  {
   "cell_type": "code",
   "execution_count": 12,
   "metadata": {},
   "outputs": [],
   "source": [
    "import scipy.stats as stats\n",
    "from scipy.stats import pearsonr, ttest_ind, ttest_1samp\n",
    "from sklearn.linear_model import LinearRegression, Ridge, Lasso\n",
    "from sklearn.preprocessing import StandardScaler\n",
    "\n",
    "# sub_sahara_education_data = final_data[final_data['region_txt'] == 'Sub-Saharan Africa']['education_level']"
   ]
  },
  {
   "cell_type": "code",
   "execution_count": 22,
   "metadata": {},
   "outputs": [
    {
     "data": {
      "text/plain": [
       "(470, 15)"
      ]
     },
     "execution_count": 22,
     "metadata": {},
     "output_type": "execute_result"
    }
   ],
   "source": [
    "mil_only.shape"
   ]
  },
  {
   "cell_type": "code",
   "execution_count": 14,
   "metadata": {},
   "outputs": [
    {
     "name": "stdout",
     "output_type": "stream",
     "text": [
      "[1.55945378] [0.11933857]\n"
     ]
    }
   ],
   "source": [
    "\n",
    "violent_mil = mil_only[['Violent']]\n",
    "\n",
    "violent_civ = civ_only[['Violent']]\n",
    "\n",
    "violent_civ_mean = np.mean(violent_civ)\n",
    "violent_mil_mean = np.mean(violent_mil)\n",
    "\n",
    "t_statistic, p_value = stats.ttest_ind(violent_mil, violent_civ, equal_var=False)\n",
    "print(t_statistic, p_value)\n",
    "\n",
    "# print(violent_mil_mean)\n",
    "# print(violent_civ_mean)\n",
    "\n",
    "#possibly due to the diffence in sample sizes, the p value fell about 5% \n",
    "#Therefore I cannot reject the null hypothesis\n"
   ]
  },
  {
   "cell_type": "code",
   "execution_count": 94,
   "metadata": {},
   "outputs": [],
   "source": [
    "#Normalizing distributions between Mil and Civ\n",
    "#Boostrapping\n",
    "\n",
    "# print(\"Outside function:\", len(bootstrap(violent_mil, num_bootstrap_samples=len(violent_mil))))\n",
    "practice_mil = functions.bootstrap(violent_mil)\n",
    "practice_civ = functions.bootstrap(violent_civ)"
   ]
  },
  {
   "cell_type": "code",
   "execution_count": 95,
   "metadata": {},
   "outputs": [
    {
     "name": "stdout",
     "output_type": "stream",
     "text": [
      "mil: 0.6363795744680851 0.021744942897201067\n",
      "civ: 0.5975299809342232 0.010860459019258237\n"
     ]
    }
   ],
   "source": [
    "\n",
    "print(\"mil:\", np.mean(practice_mil), np.std(practice_mil))\n",
    "print(\"civ:\", np.mean(practice_civ), np.std(practice_civ))"
   ]
  },
  {
   "cell_type": "code",
   "execution_count": 61,
   "metadata": {},
   "outputs": [
    {
     "name": "stdout",
     "output_type": "stream",
     "text": [
      "155.0744650702409 0.0\n"
     ]
    }
   ],
   "source": [
    "t_statistic, p_value = stats.ttest_ind(practice_mil, practice_civ, equal_var=False)\n",
    "print(t_statistic, p_value)"
   ]
  },
  {
   "cell_type": "code",
   "execution_count": 64,
   "metadata": {},
   "outputs": [
    {
     "data": {
      "text/plain": [
       "0.6359340425531915"
      ]
     },
     "execution_count": 64,
     "metadata": {},
     "output_type": "execute_result"
    }
   ],
   "source": [
    "np.mean(practice_mil)"
   ]
  },
  {
   "cell_type": "code",
   "execution_count": 66,
   "metadata": {},
   "outputs": [],
   "source": [
    "from scipy.stats import norm"
   ]
  },
  {
   "cell_type": "code",
   "execution_count": 75,
   "metadata": {},
   "outputs": [
    {
     "data": {
      "text/plain": [
       "2.2355686682045873e-06"
      ]
     },
     "execution_count": 75,
     "metadata": {},
     "output_type": "execute_result"
    }
   ],
   "source": [
    "np.std(practice_mil)/(len(practice_mil))"
   ]
  },
  {
   "cell_type": "code",
   "execution_count": 76,
   "metadata": {},
   "outputs": [],
   "source": [
    "norm_mil = norm.fit(practice_mil)\n"
   ]
  },
  {
   "cell_type": "code",
   "execution_count": 79,
   "metadata": {},
   "outputs": [
    {
     "data": {
      "text/plain": [
       "(0.6359340425531915, 0.022355686682045874)"
      ]
     },
     "execution_count": 79,
     "metadata": {},
     "output_type": "execute_result"
    }
   ],
   "source": [
    "norm_mil"
   ]
  },
  {
   "cell_type": "code",
   "execution_count": 87,
   "metadata": {},
   "outputs": [
    {
     "name": "stdout",
     "output_type": "stream",
     "text": [
      "0.5768005048195154 0.6183349575255751\n"
     ]
    }
   ],
   "source": [
    "\n",
    "# mil_distribution = norm(loc=np.mean(practice_mil), scale=np.std(practice_mil)/(len(practice_mil)))\n",
    "mil_distribution = norm(loc=np.mean(practice_mil), scale=np.std(practice_mil, ddof=1))\n",
    "# civ_distribution = norm(loc=np.mean(practice_civ), scale=np.std(practice_civ)/(len(practice_civ)))\n",
    "civ_distribution = norm(loc=np.mean(practice_civ), scale=np.std(practice_civ, ddof=1))\n",
    "critical_value = civ_distribution.ppf(0.025)\n",
    "critical_value2 = civ_distribution.ppf(0.975)\n",
    "# critical_value = null_distribution.ppf(0.95)\n",
    "\n",
    "print(critical_value, critical_value2)"
   ]
  },
  {
   "cell_type": "code",
   "execution_count": 93,
   "metadata": {},
   "outputs": [
    {
     "data": {
      "text/plain": [
       "<matplotlib.legend.Legend at 0x7f24d3f4ddb0>"
      ]
     },
     "execution_count": 93,
     "metadata": {},
     "output_type": "execute_result"
    },
    {
     "data": {
      "image/png": "[encoded data removed]",
      "text/plain": [
       "<Figure size 800x600 with 1 Axes>"
      ]
     },
     "metadata": {},
     "output_type": "display_data"
    }
   ],
   "source": [
    "# plt.hist(practice, color=\"blue\")\n",
    "\n",
    "plt.figure(figsize=(8,6))\n",
    "sns.set(style='whitegrid')\n",
    "\n",
    "#Plot the KDE plots\n",
    "\n",
    "# sns.kdeplot(violent_mil.squeeze(), color=\"red\", palette=\"viridis\")\n",
    "sns.kdeplot(practice_mil, color=\"green\", label=\"USMEs\")\n",
    "# sns.kdeplot(violent_civ, color=\"green\", palette=\"viridis\")\n",
    "sns.kdeplot(practice_civ, color=\"orange\", label=\"Civilian Extremists\")\n",
    "plt.axvline(critical_value, color='red', linestyle='dashed',\n",
    " linewidth=2, label=f'Lower Critical Value: {critical_value:.3f}')\n",
    "plt.axvline(critical_value2, color='red', linestyle='dashed',\n",
    " linewidth=2, label=f'Upper Critical Value: {critical_value2:.3f}')\n",
    "plt.title(\"Sample Distribution of Violent Crimes\")\n",
    "plt.xlabel(\"Mean Distribution\")\n",
    "plt.legend()\n"
   ]
  },
  {
   "cell_type": "code",
   "execution_count": 47,
   "metadata": {},
   "outputs": [
    {
     "data": {
      "text/plain": [
       "0.8"
      ]
     },
     "execution_count": 47,
     "metadata": {},
     "output_type": "execute_result"
    }
   ],
   "source": [
    "violent_mil.sample(10, replace=True).mean().iloc[0]"
   ]
  },
  {
   "cell_type": "code",
   "execution_count": 52,
   "metadata": {},
   "outputs": [
    {
     "data": {
      "text/plain": [
       "(array([  19.,  104.,  590., 1666., 2809., 2744., 1504.,  465.,   84.,\n",
       "          15.]),\n",
       " array([0.55319149, 0.57      , 0.58680851, 0.60361702, 0.62042553,\n",
       "        0.63723404, 0.65404255, 0.67085106, 0.68765957, 0.70446809,\n",
       "        0.7212766 ]),\n",
       " <BarContainer object of 10 artists>)"
      ]
     },
     "execution_count": 52,
     "metadata": {},
     "output_type": "execute_result"
    },
    {
     "data": {
      "image/png": "[encoded data removed]",
      "text/plain": [
       "<Figure size 640x480 with 1 Axes>"
      ]
     },
     "metadata": {},
     "output_type": "display_data"
    }
   ],
   "source": [
    "sample_means = []\n",
    "for i in range(10000):\n",
    "  sample_means.append(np.mean(np.random.choice(violent_mil.squeeze(), size=470, replace=True)))\n",
    "# print(sample_means)\n",
    "\n",
    "plt.hist(sample_means, color=\"blue\")\n"
   ]
  },
  {
   "cell_type": "markdown",
   "metadata": {},
   "source": [
    "## Convert Values"
   ]
  },
  {
   "cell_type": "code",
   "execution_count": 96,
   "metadata": {},
   "outputs": [
    {
     "data": {
      "text/plain": [
       "array(['Violent', 'Group_Membership', 'Internet_Radicalization', 'Age',\n",
       "       'Marital_Status', 'Children', 'Gender', 'Religious_Background',\n",
       "       'Education', 'Military', 'Psychological', 'Alcohol_Drug',\n",
       "       'Previous_Criminal_Activity', 'Angry_US', 'Group_Grievance'],\n",
       "      dtype=object)"
      ]
     },
     "execution_count": 96,
     "metadata": {},
     "output_type": "execute_result"
    }
   ],
   "source": [
    "#mil_only\n",
    "#civ_only\n",
    "mil_only.columns.values"
   ]
  },
  {
   "cell_type": "code",
   "execution_count": null,
   "metadata": {},
   "outputs": [],
   "source": [
    "# Converting values to make proper logistic regression\n",
    "\n",
    "violent = {\n",
    "  \n",
    "}\n",
    "sub_groups = {\n",
    "1 : \"Militia/gun rights\",\n",
    "2 : \"Neo-Nazi\",\n",
    "3 : \"Xenophobic\",\n",
    "4 : \"Anti-government\",\n",
    "5 : \"Christian Identity\",\n",
    "6 : \"Environmentalist\",\n",
    "7 : \"New Left\",\n",
    "8 : \"Black Nationalist\",\n",
    "9 : \"Communist\",\n",
    "10 : \"Anarchist\",\n",
    "11 : \"Islamist\",\n",
    "12 : \"Puerto Rican Nationalist\",\n",
    "13 : \"Irish Republican Army\",\n",
    "14 : \"Cult\",\n",
    "15 : \"Anti-abortion\",\n",
    "16 : \"Jewish Defense League\",\n",
    "17 : \"Anti-LGBTQ\",\n",
    "18 : \"Other\",\n",
    "19 : \"Male supremacist\",\n",
    "20 : \"Moorish sovereign\",\n",
    "21 : \"Pro-Trump extremist\",\n",
    "22 : \"Anti-Trump extremist\",\n",
    "23 : \"Anti-Law Enforcement\"\n",
    "}\n"
   ]
  },
  {
   "cell_type": "markdown",
   "metadata": {},
   "source": [
    "## Make Dummies"
   ]
  },
  {
   "cell_type": "code",
   "execution_count": null,
   "metadata": {},
   "outputs": [],
   "source": [
    "# Make Dummies"
   ]
  },
  {
   "cell_type": "markdown",
   "metadata": {},
   "source": [
    "## Make the Logistic Regression "
   ]
  },
  {
   "cell_type": "code",
   "execution_count": null,
   "metadata": {},
   "outputs": [],
   "source": [
    "# Make Logistic Regression"
   ]
  }
 ],
 "metadata": {
  "kernelspec": {
   "display_name": "base",
   "language": "python",
   "name": "python3"
  },
  "language_info": {
   "codemirror_mode": {
    "name": "ipython",
    "version": 3
   },
   "file_extension": ".py",
   "mimetype": "text/x-python",
   "name": "python",
   "nbconvert_exporter": "python",
   "pygments_lexer": "ipython3",
   "version": "3.10.9"
  },
  "orig_nbformat": 4
 },
 "nbformat": 4,
 "nbformat_minor": 2
}
